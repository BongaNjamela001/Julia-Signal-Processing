{
 "cells": [
  {
   "attachments": {},
   "cell_type": "markdown",
   "metadata": {},
   "source": [
    "# Import Libraries"
   ]
  },
  {
   "cell_type": "code",
   "execution_count": null,
   "metadata": {},
   "outputs": [],
   "source": [
    "using Plots \n",
    "\n",
    "Plots.plotly()\n",
    "Plots.default(size=(800,300)); # Set default plot canvas size\n",
    "Plots.default(label=\"\"); # Turn of legends by default\n",
    "Plots.default(ticks=:native);"
   ]
  },
  {
   "attachments": {},
   "cell_type": "markdown",
   "metadata": {},
   "source": [
    "# Energy via Integration"
   ]
  },
  {
   "attachments": {},
   "cell_type": "markdown",
   "metadata": {},
   "source": [
    "The energy $E$ of a signal $x(t)$ is defined by the integration\n",
    "\n",
    "$E = \\int_{-\\infty}^{\\infty}| x(t) |^2 dt$\n",
    "\n",
    "which is approximated by the sum\n",
    "\n",
    "$E = \\sum_{n=0}^{N -1 } p(t_1 + \\Delta t) \\Delta t$\n",
    "\n",
    "The sum becomes more accurate with an increase in the time step $\\Delta t$. The code below generates the energy via numerical integration."
   ]
  },
  {
   "cell_type": "code",
   "execution_count": null,
   "metadata": {},
   "outputs": [],
   "source": [
    "t1= -1; t2= 1; Δt= 0.001;\n",
    "t=t1:Δt:t2;\n",
    " # or use t=range(t1, t2, step=Δt)\n",
    "\n",
    "f = 1       # T = 1 s <=> f = 1 Hz\n",
    "f0 = 6      \n",
    "ω0 = 2*pi*f0    # fundamental frequency w0\n",
    "A = 10\n",
    "\n",
    "rect(t) = (abs.(t) .<= 0.5) .* 1.0\n",
    "myfunc(t) = A*rect(t).*cos.(ω0*t)\n",
    " \n",
    "x = myfunc.(t)\n",
    "\n",
    "# Function to calculate the instantaneous power\n",
    "InstPower(x) = (abs(x))^2\n",
    "\n",
    "Energy(x,Δt) = sum( InstPower.(x) )*Δt\n",
    "#  Energy is calculated by integrating power\n",
    "\n",
    "fig_x0 = plot(t,x); \n",
    "xlabel!(\"t (s)\")\n",
    "ylabel!(\"x(t)\")\n",
    "title!(\"Sinusoidal pulse x(t) obtained by multiplying sinusoid by rectangular pulse function\")\n",
    "display(fig_x0);\n",
    "\n",
    "\n",
    "fig_x1 = plot(t, InstPower.(x));\n",
    "xlabel!(\"t (s)\")\n",
    "ylabel!(\"p(t)\")\n",
    "title!(\"Instantaneous power p(t) of sinusoidal pulse x(t)\")\n",
    "\n",
    "display(fig_x1)\n",
    "println(\"Energy = $(Energy(x,Δt)) J\" );\n"
   ]
  },
  {
   "attachments": {},
   "cell_type": "markdown",
   "metadata": {},
   "source": [
    "# Energy of impulse response of an ideal LPF "
   ]
  },
  {
   "attachments": {},
   "cell_type": "markdown",
   "metadata": {},
   "source": [
    "We define the impulse response $h(t)$ of an ideal lowpass filter (LPF) with bandwidth $B$ Hz\n",
    "as \n",
    "\n",
    "$h(t) = 2Sa(2 \\pi t)$\n",
    "\n",
    "We use the above method to determine the energy of the impulse response by approximating it by the sum\n",
    "\n",
    "$E = \\sum_{n=0}^{N -1 } p(t_1 + \\Delta t) \\Delta t$\n",
    "\n",
    "For more accurate results, we choose a wide time interval $[t_1, t_2]$ and a small time step $\\Delta t$."
   ]
  },
  {
   "cell_type": "code",
   "execution_count": null,
   "metadata": {},
   "outputs": [],
   "source": [
    "t1= 0.0000000000001; t2= 100; Δt= 0.001;\n",
    "t=t1:Δt:t2;\n",
    "B_a = 1     # bandwidth B = 1 Hz\n",
    "\n",
    "Sa(t) = sin.(t)./t\n",
    "\n",
    "# rect(t) = (abs.(t-1) .<= 0.5) .* 1.0\n",
    "# myimpulse(t) = 2*B_a*rect(t).*Sa(2*pi*B_a*(t-1))\n",
    "myimpulse(t) = 2*B_a*Sa(2*pi*B_a*(t))\n",
    "\n",
    "h = myimpulse.(t)\n",
    "\n",
    "InstPower(h) = (abs(h))^2\n",
    "Energy(h,Δt) = sum( InstPower.(h) )*Δt\n",
    "\n",
    "fig_h = plot(t,h);\n",
    "xlabel!(\"t (s)\")\n",
    "ylabel!(\"h(t)\")\n",
    "title!(\"Impulse response h(t) of an ideal LPF with bandwidth B = 1 Hz\")\n",
    "display(fig_h);\n",
    "\n",
    "println(\"Energy = $(2*Energy(h,Δt)) J\" );"
   ]
  },
  {
   "attachments": {},
   "cell_type": "markdown",
   "metadata": {},
   "source": [
    "In the above, the time interval is started at $t_1 \\approx 0$ and not exactly at $t = 0$ so that the energy converges. Since the function is symmetric about the vertical axis, we perform the calculation on the right half of the impulse response then double the result to obtain the required energy."
   ]
  },
  {
   "attachments": {},
   "cell_type": "markdown",
   "metadata": {},
   "source": [
    "Plotting filter impulse response"
   ]
  },
  {
   "attachments": {},
   "cell_type": "markdown",
   "metadata": {},
   "source": [
    "The impulse response $h(t)$ of an ideal LPF of bandwidth $B$ = 1 Hz and unity gain is the $\\sin(x)$ over $x$ function:\n",
    "$h(t) = 2 Sa(2\\pi t)$, where $Sa(x) = sin(x)/x$. Below is the code for creating a sampled sinusoid."
   ]
  },
  {
   "cell_type": "code",
   "execution_count": null,
   "metadata": {},
   "outputs": [],
   "source": [
    "Δt = 0.001          # time step\n",
    "t = -2*pi:Δt:2*pi;        # steps of 0.01s from 0s to 1s\n",
    "j = im;\n",
    "\n",
    "N = length(t)\n",
    "println(\"Number of samples = $(N).\")\n",
    "\n",
    "A = 2\n",
    "B = 1   # Frequency in Hz\n",
    "x = 2*pi*B*t;\n",
    "\n",
    "h_sine = A*sin.(x); # Array holding values of the numerator of the Sa-function\n",
    "h_denom = x         # The denominator of the Sa-function\n",
    "h_lpf = h_sine./h_denom; # The impulse response as a Sa-function\n"
   ]
  },
  {
   "attachments": {},
   "cell_type": "markdown",
   "metadata": {},
   "source": [
    "# Plot the sine waveform in the numerator of the Sa-function"
   ]
  },
  {
   "attachments": {},
   "cell_type": "markdown",
   "metadata": {},
   "source": [
    "Showing the plot of the numerator of the Sa-function representing the impulse function as a sine waveform with amplitude 2. "
   ]
  },
  {
   "cell_type": "code",
   "execution_count": null,
   "metadata": {},
   "outputs": [],
   "source": [
    "fig_sine = plot(t, h_sine)\n",
    "xlabel!(\"t (s)\");\n",
    "ylabel!(\"h_sine\")\n",
    "title!(\"Plot of sine wave vs time\")\n",
    "display(fig_sine)"
   ]
  },
  {
   "attachments": {},
   "cell_type": "markdown",
   "metadata": {},
   "source": [
    "# Plot of the denominator of the Sa-function"
   ]
  },
  {
   "cell_type": "code",
   "execution_count": null,
   "metadata": {},
   "outputs": [],
   "source": [
    "fig_denom = plot(t, h_denom)\n",
    "xlabel!(\"t (s)\");\n",
    "ylabel!(\"h_denom\")\n",
    "title!(\"Plot of 2 pi t vs t\")\n",
    "display(fig_denom)"
   ]
  },
  {
   "attachments": {},
   "cell_type": "markdown",
   "metadata": {},
   "source": [
    "# Plot of the impulse response function in the time domain"
   ]
  },
  {
   "attachments": {},
   "cell_type": "markdown",
   "metadata": {},
   "source": [
    "The impulse function of a LPF is given by $h_{sin}$ divided by $h_{denom}$."
   ]
  },
  {
   "cell_type": "code",
   "execution_count": null,
   "metadata": {},
   "outputs": [],
   "source": [
    "fig_impulse_response = plot(t, h_lpf)\n",
    "xlabel!(\"t (s)\")\n",
    "ylabel!(\"h(t)\")\n",
    "title!(\"Plot of impulse response vs t\")\n",
    "display(fig_impulse_response)"
   ]
  },
  {
   "attachments": {},
   "cell_type": "markdown",
   "metadata": {},
   "source": [
    "# Approximating the width of the main lobe of impulse response"
   ]
  },
  {
   "attachments": {},
   "cell_type": "markdown",
   "metadata": {},
   "source": [
    "The width of the main lobe is measured between the 3dB points, i.e. the distance between the points on the above plot where the value of the impulse response function on the y-axis is 70.7% of the maximum height of 2. These points have a y-value of 1.414. This corresponds to $x_1$ = -0.221 and $x_{2}$ = 0.221. The distance between two points is \n",
    "\n",
    "d = $\\sqrt{(x_2 - x_1)^2 + (y_2 - y_1)^2}$\n",
    "\n",
    "Therefore, the width is 0.221 - (-0.221) = 0.44 = 0.44/1 = 0.44/B.\n",
    "\n",
    "Alternatively, the value of $t$ where at the 3dB points corresponds to the intersection of the curve of $y_1 = 2 sin(2\\pi t)$ and $y_2 = 2\\pi t / \\sqrt(2)$."
   ]
  },
  {
   "cell_type": "code",
   "execution_count": null,
   "metadata": {},
   "outputs": [],
   "source": [
    "# Δt = 0.001          # time step\n",
    "# t = -2*pi:Δt:2*pi;  \n",
    "\n",
    "plot(t, h_sine)\n",
    "fig_intersect = plot!(t, sqrt(2).*h_denom)\n",
    "\n",
    "xlabel!(\"t (s)\")\n",
    "ylabel!(\"y(t)\")\n",
    "title!(\"Plot showing the intersection of sinx and x/sqrt(2)\")\n",
    "\n",
    "display(fig_intersect)\n"
   ]
  },
  {
   "attachments": {},
   "cell_type": "markdown",
   "metadata": {},
   "source": [
    "From the above plot, the intersection is at $t = 0.221$. We can verify this by evaluating the impulse response $h(t)$ at this value of $t$, i.e. \n",
    "\n",
    "$h(\\pm 0.221) = 2Sa (2\\pi(\\pm 0.221)) \\approx 1.414$"
   ]
  },
  {
   "attachments": {},
   "cell_type": "markdown",
   "metadata": {},
   "source": [
    "This shows that the width of the main lobe at the -3dB point is 0.44 and corresponds to the points where the value of the impulse response function is 1.414, or 70.7% of the amplitude 2. "
   ]
  },
  {
   "attachments": {},
   "cell_type": "markdown",
   "metadata": {},
   "source": [
    "# The impulse response of an ideal BPF"
   ]
  },
  {
   "attachments": {},
   "cell_type": "markdown",
   "metadata": {},
   "source": [
    "We can use the same technique as above to plot the impulse response of the bandpass filter (BPF) by noting that the result is a product of the Sa-function and a cosine function."
   ]
  },
  {
   "cell_type": "code",
   "execution_count": null,
   "metadata": {},
   "outputs": [],
   "source": [
    "f0 = 4                              # fundamental frequency in Hz\n",
    "w0 = 2*pi*f0                        # fundamental frequency in rad/s\n",
    "\n",
    "h_bpf = (2*B*sin.(pi*B*t)./(pi*B*t)).*(cos.(w0*t));\n",
    "\n",
    "fig_bpf = plot(t, h_bpf)\n",
    "xlabel!(\"t (s)\");\n",
    "ylabel!(\"Impulse response of BPF\")\n",
    "title!(\"Plot of the h_bpf vs time\")\n",
    "\n",
    "display(fig_bpf)\n"
   ]
  },
  {
   "attachments": {},
   "cell_type": "markdown",
   "metadata": {},
   "source": [
    "For further analysis, we can plot the factors in the expression describing the impulse response on the same axis to see the corresponding values that are being multiplied together."
   ]
  },
  {
   "cell_type": "code",
   "execution_count": null,
   "metadata": {},
   "outputs": [],
   "source": [
    "h_sa_factor = 2*B*sin.(pi*B*t)./(pi*B*t);           # the factor of the Sa-function of the impulse resp\n",
    "h_cos_factor = cos.(w0*t);                          # the cosine factor of the impulse resp\n",
    "\n",
    "fig_sa_factor = plot(t, h_sa_factor)\n",
    "fig_final = plot!(t, h_cos_factor)\n",
    "xlabel!(\"t (s)\")\n",
    "ylabel!(\"y(t)\")\n",
    "title!(\"Showing the functions that were multiplied together to obtain h_bpf\")\n",
    "display(fig_final)\n"
   ]
  },
  {
   "attachments": {},
   "cell_type": "markdown",
   "metadata": {},
   "source": [
    "We see that when multiplying values within the main lobe of the Sa-function with the values of the sinusoid, we obtain the central part of the impulse response of the BPF whose value at the maximum corresponds to the height of the Sa-function."
   ]
  },
  {
   "attachments": {},
   "cell_type": "markdown",
   "metadata": {},
   "source": [
    "# Step response via integration"
   ]
  },
  {
   "attachments": {},
   "cell_type": "markdown",
   "metadata": {},
   "source": [
    "The response of a LPF can be found by integrating the impulse response $h_{lpf}(t)$:\n",
    "\n",
    "$y(t) = \\int_{-\\infty}^{t} {h_{lpf}(\\tau)} d\\tau$\n",
    "\n",
    "We can perform this operation for a range of $t$ values by using the *cumsum(X)* function which cummulatively sums the values in the array X, creating an output array."
   ]
  },
  {
   "cell_type": "code",
   "execution_count": null,
   "metadata": {},
   "outputs": [],
   "source": [
    "y_lpf = cumsum(h_lpf)*Δt                        # cummulatively sums values of the impulse resp of the LPF\n",
    "\n",
    "fig_step_lpf = plot(t, y_lpf)\n",
    "xlabel!(\"t (s)\");\n",
    "ylabel!(\"y(t)\")\n",
    "title!(\"Plot of the response y(t) vs time\")\n",
    "\n",
    "display(fig_step_lpf)"
   ]
  },
  {
   "attachments": {},
   "cell_type": "markdown",
   "metadata": {},
   "source": [
    "From the plot, the maximum value occurs at $y(t) = 1.090927$ and $y(t) = -0.090927$. This implies that the 10% and 90% values are $y(t) = 0.0273$ and $y(t) = 0.9727$, respectively, as calculated in the code below.  "
   ]
  },
  {
   "cell_type": "code",
   "execution_count": null,
   "metadata": {},
   "outputs": [],
   "source": [
    "y_max = 1.090927;\n",
    "y_min = -0.090927;\n",
    "\n",
    "y90 = y_max - (y_max - y_min)*0.1;\n",
    "y10 = y_min + (y_max - y_min)*0.1;\n",
    "\n",
    "println(\"The 10% value is y(t_10) = $y10 and the 90% value is y(t_90) = $y90.\")"
   ]
  },
  {
   "attachments": {},
   "cell_type": "markdown",
   "metadata": {},
   "source": [
    "The 10% to 90% rise time corresponds to the length of time on the $x$-axis it takes to go from $y(t_{10})$ and $y(t_{90})$. This corresponds to $t_{10} = -0.118$ and $t_{90} = 0.278$, which yields a time length of $0.40 s$. This value is close to the expected value of $0.44 s$."
   ]
  },
  {
   "attachments": {},
   "cell_type": "markdown",
   "metadata": {},
   "source": [
    "# Plotting Periodic functions"
   ]
  },
  {
   "attachments": {},
   "cell_type": "markdown",
   "metadata": {},
   "source": [
    "The code below generates a plot of $4cos(20\\pi t)$ as a function of t from $0$ to $1$ with a time interval of width $\\Delta t = 0.001$."
   ]
  },
  {
   "cell_type": "code",
   "execution_count": null,
   "metadata": {},
   "outputs": [],
   "source": [
    "Δt = 0.001          # time step\n",
    "t = 0:Δt:1;        # steps of 0.01s from 0s to 1s\n",
    "\n",
    "A_20 = 4\n",
    "f20 = 10 \n",
    "w20 = 2*pi*f20\n",
    "\n",
    "cos20 = A_20*cos.(w20*t)\n",
    "\n",
    "fig_cos20 = plot(t, cos20)\n",
    "xlabel!(\"t (s)\")\n",
    "ylabel!(\"cos20\")\n",
    "title!(\"Plot of sinusoid with amplitude 4 against time\")\n",
    "\n",
    "display(fig_cos20)"
   ]
  },
  {
   "attachments": {},
   "cell_type": "markdown",
   "metadata": {},
   "source": [
    "# 2.x.4 b)"
   ]
  },
  {
   "attachments": {},
   "cell_type": "markdown",
   "metadata": {},
   "source": [
    "The code below generates a plot of $2cos(30\\pi t)$ as a function of t from $0$ to $1$ with a time interval of width $\\Delta t = 0.001$."
   ]
  },
  {
   "cell_type": "code",
   "execution_count": null,
   "metadata": {},
   "outputs": [],
   "source": [
    "A_30 = 2\n",
    "f30 = 15 \n",
    "w30 = 2*pi*f30\n",
    "\n",
    "cos30 = A_30*cos.(w30*t)\n",
    "\n",
    "fig_cos30 = plot(t, cos30)\n",
    "xlabel!(\"t (s)\")\n",
    "ylabel!(\"cos30\")\n",
    "title!(\"Plot of sinosoid with amplitude 2 against time\")\n",
    "\n",
    "display(fig_cos30)"
   ]
  },
  {
   "attachments": {},
   "cell_type": "markdown",
   "metadata": {},
   "source": [
    "We combine the two functions by addition to produce $\\nu (t)$ and generate the plot using the code below."
   ]
  },
  {
   "cell_type": "code",
   "execution_count": null,
   "metadata": {},
   "outputs": [],
   "source": [
    "v_t = cos20 + cos30\n",
    "\n",
    "fig_v = plot(t, v_t)\n",
    "xlabel!(\"t (s)\")\n",
    "ylabel!(\"v(t)\")\n",
    "title!(\"Plot of v(t) vs t\")\n",
    "\n",
    "display(fig_v)"
   ]
  },
  {
   "attachments": {},
   "cell_type": "markdown",
   "metadata": {},
   "source": [
    "From the plot above, we can measure the period by using the cursor to measure the value of $t$ at the start and end of one cycle. The period is the length of time between these two point.\n",
    "\n",
    "$t_1 = 0.179 s$\n",
    "\n",
    "$t_2 = 0.379 s$\n",
    "\n",
    "$\\implies T = t_2 - t_1 = 0.2 s$\n",
    "\n",
    "$\\therefore f_0 = 1/0.2 = 5 Hz$\n",
    "\n",
    "where $f_0$ is the fundamental frequency in Hz. Alternatively,\n",
    "\n",
    "$\\omega_0 = 2\\pi f_0 =  10\\pi  rad \\cdot s^{-1}$\n",
    "\n",
    "This result is equal to the expected value as calculated in Drill Problem 2.12."
   ]
  },
  {
   "attachments": {},
   "cell_type": "markdown",
   "metadata": {},
   "source": [
    "# Plotting Magnitude and Phase"
   ]
  },
  {
   "attachments": {},
   "cell_type": "markdown",
   "metadata": {},
   "source": [
    "Suppose that $R = 100 \\Omega$ and $C = 100 nF$. We can generate the magnitude spectrum of the frequency response $H(\\omega)$ given by\n",
    "\n",
    "$H(\\omega) = \\frac{j \\omega RC}{1 + j\\omega RC}$ \n",
    "\n",
    "using the code below. We note that the magnitude $|H(\\omega)|$ of the transfer function is given by\n",
    "\n",
    "$|{H(\\omega)}| = \\frac{\\omega R C}{\\sqrt{1 + \\omega^2 R^2 C^2}}$."
   ]
  },
  {
   "cell_type": "code",
   "execution_count": null,
   "metadata": {},
   "outputs": [],
   "source": [
    "Δw = 0.1\n",
    "w = -10000:Δw:10000\n",
    "\n",
    "R = 100\n",
    "C = 100*10^(-9)\n",
    "Hw = (j*R*C*w)./(1 .+ j*R*C*w);\n",
    "mag_Hw = abs.(Hw)\n",
    "\n",
    "fig_magnitude = plot(w, mag_Hw)\n",
    "xlabel!(\"Frequency in rad/s\")\n",
    "ylabel!(\"|H(w)|\")\n",
    "title!(\"Transfer function of a passive HPF\")\n",
    "\n",
    "display(fig_magnitude)"
   ]
  },
  {
   "attachments": {},
   "cell_type": "markdown",
   "metadata": {},
   "source": [
    "The phase spectrum is given by\n",
    "\n",
    "$\\arg{(H(\\omega))} = \\tan^{-1}\\left( \\frac{1}{\\omega RC} \\right)$\n",
    "\n",
    "and the plot is generated below."
   ]
  },
  {
   "cell_type": "code",
   "execution_count": null,
   "metadata": {},
   "outputs": [],
   "source": [
    "angle_Hw = angle.(Hw)\n",
    "\n",
    "fig_angle = plot(w, angle_Hw)\n",
    "xlabel!(\"Frequency in rad/s\")\n",
    "ylabel!(\"arg(H(w))\")\n",
    "title!(\"Phase spectrum of H(w)\")\n",
    "\n",
    "\n",
    "display(fig_angle)"
   ]
  },
  {
   "attachments": {},
   "cell_type": "markdown",
   "metadata": {},
   "source": [
    "The real part of the transfer function $H(\\omega)$ of a first-order passive HPF is expressed as\n",
    "\n",
    "$Re\\{H(\\omega)\\} =  \\frac{\\omega^2 R^2 C^2}{1+\\omega^2 R^2 C^2}$\n",
    "\n",
    "and can be represented graphically using the code below."
   ]
  },
  {
   "cell_type": "code",
   "execution_count": null,
   "metadata": {},
   "outputs": [],
   "source": [
    "re_Hw = real(Hw)\n",
    "\n",
    "fig_real = plot(re_Hw)\n",
    "xlabel!(\"Frequency in rad/s\")\n",
    "ylabel!(\"Re{H(w)}\")\n",
    "title!(\"Plot of the real part of H(w)\")\n",
    "\n",
    "display(fig_real)"
   ]
  },
  {
   "attachments": {},
   "cell_type": "markdown",
   "metadata": {},
   "source": [
    "The real part of the transfer function of the part HPF filter contributes a component that makes the magnitude of the frequency response point upward and symmetric about the y-axis."
   ]
  },
  {
   "attachments": {},
   "cell_type": "markdown",
   "metadata": {},
   "source": [
    "The imaginary part of the transfer function is expressed as \n",
    "\n",
    "$Im\\{H(\\omega)\\} = \\frac{\\omega R C}{1 + \\omega^2 R^2 C^2}$\n",
    "\n",
    "and is represent graphically by the code below."
   ]
  },
  {
   "cell_type": "code",
   "execution_count": null,
   "metadata": {},
   "outputs": [],
   "source": [
    "im_Hw = imag(Hw)\n",
    "\n",
    "fig_im = plot(w, im_Hw)\n",
    "xlabel!(\"Frequency in rad/s\")\n",
    "ylabel!(\"Im{H(w)}\")\n",
    "title!(\"Plot of the imaginary part of of the spectrum\")\n",
    "\n",
    "display(fig_im)"
   ]
  },
  {
   "attachments": {},
   "cell_type": "markdown",
   "metadata": {},
   "source": [
    "We see that the imaginary component contributes linear behaviour to the magnitude of the transfer function."
   ]
  },
  {
   "attachments": {},
   "cell_type": "markdown",
   "metadata": {},
   "source": [
    "Using the values $R = 100 \\Omega$ and $C = 100nF$, the expected cut-off frequency $\\omega_c$ is\n",
    "\n",
    "$\\omega_c = \\frac{1}{(100) (100 \\times 10^{-9})} = 100 kHz$\n",
    "\n",
    "We can determine the value of the magnitude of the frequency response at the cut-off frequency (i.e. $|H(100 kHz)|$) graphically or numerically using the below code."
   ]
  },
  {
   "cell_type": "code",
   "execution_count": null,
   "metadata": {},
   "outputs": [],
   "source": [
    "wc = 100000 # cut-off frequency in Hz\n",
    "Hc = (wc*R*C)/(sqrt(1+(wc*R*C)))\n",
    "\n",
    "println(\"The value of the magnitude of the filter response at the cut-off frequency is equal to $Hc\")"
   ]
  },
  {
   "attachments": {},
   "cell_type": "markdown",
   "metadata": {},
   "source": [
    "The value obtained corresponds to the point where the magnitude of the response is equal to 70.7% of the maximum. We can determine the ratio of between the value of the magnitude when the frequency is infinitly large ($|H(inf)|$) and the value at the cut-off frequency ($|H(\\omega_c)|$), i.e.\n",
    "\n",
    "$\\alpha = \\frac{|H(\\infty)|}{|H(\\omega_c)|}$\n",
    "\n",
    "in decibel (dB) and where,\n",
    "\n",
    "$|H(\\infty)| = \\lim_{\\omega \\rightarrow \\infty} |H(\\omega)|$\n",
    "\n",
    "$\\implies |H(\\infty)| = 1$"
   ]
  },
  {
   "cell_type": "code",
   "execution_count": null,
   "metadata": {},
   "outputs": [],
   "source": [
    "H_inf = 1 \n",
    "\n",
    "α = H_inf/Hc\n",
    "α   = 10*log10(α)\n",
    "println(\"The ratio |H(inf)| : |H(wc)| is $α dB.\")"
   ]
  },
  {
   "attachments": {},
   "cell_type": "markdown",
   "metadata": {},
   "source": [
    "# Simulating a Noise Waveform"
   ]
  },
  {
   "attachments": {},
   "cell_type": "markdown",
   "metadata": {},
   "source": [
    "In this section, we implement code to simulate the output of the LPF by adding impulse shifted responses. "
   ]
  },
  {
   "cell_type": "code",
   "execution_count": null,
   "metadata": {},
   "outputs": [],
   "source": [
    "B = 1\n",
    "t_max=100 \n",
    "Δt=0.1\n",
    "t=0:Δt:t_max; \n",
    "\n",
    "N_t = length(t) \n",
    "N = 100\n",
    "\n",
    "Sa(t) = sin(t)/t\n",
    "\n",
    "A = zeros(N);\n",
    "τ = zeros(N);\n",
    "out_put = zeros(N_t); \n",
    "\n",
    "for n=1:N\n",
    "    τ[n] = rand() * t_max\n",
    "    A[n] = 2*round(rand()) - 1\n",
    "    out_put .+= A[n]*2*B*Sa.(2*B*(t .- τ[n]) )\n",
    "end\n"
   ]
  },
  {
   "attachments": {},
   "cell_type": "markdown",
   "metadata": {},
   "source": [
    "# Plot the input impulses\n",
    "\n",
    "Next, we plot the weights A[n] at the corresponding times tau[n]."
   ]
  },
  {
   "cell_type": "code",
   "execution_count": null,
   "metadata": {},
   "outputs": [],
   "source": [
    "fig_impulses = plot(τ, A, line=:stem, marker=:circle, markersize=2);\n",
    "\n",
    "xlabel!(\"t (s)\")\n",
    "ylabel!(\"Dirac deltas\")\n",
    "title!(\"2.6.1 Plot of Dirac functions to be passed through filter\")\n",
    "\n",
    "display(fig_impulses)"
   ]
  },
  {
   "attachments": {},
   "cell_type": "markdown",
   "metadata": {},
   "source": [
    "# Plot of the Sa-functions Superimposed\n",
    "\n",
    "A for loop generates the Sa-function resulting from passing each Dirac function through the LPF."
   ]
  },
  {
   "cell_type": "code",
   "execution_count": null,
   "metadata": {},
   "outputs": [],
   "source": [
    "fig_safnctns = plot(t, A[1]*2*B*Sa.(2*B*(t .- τ[1])), label=\"\" );\n",
    "\n",
    "xlabel!(\"t (s)\")\n",
    "ylabel!(\"x(t)\")\n",
    "title!(\"2.6.2 Plot of Superimposed Sa-functions from passing Dirac functions through LPF\")\n",
    "\n",
    "for n=2:N\n",
    "    plot!(t, A[n]*2*B*Sa.(2*B*(t .- τ[n])), label=\"\" ); \n",
    "end\n",
    "\n",
    "display(fig_safnctns)"
   ]
  },
  {
   "attachments": {},
   "cell_type": "markdown",
   "metadata": {},
   "source": [
    "# Plot final out of superimposed Sa-functions\n",
    "\n",
    "The Gaussian white noise is simulated by summing the Sa-functions from passing Dirac deltas through a LPF."
   ]
  },
  {
   "cell_type": "code",
   "execution_count": null,
   "metadata": {},
   "outputs": [],
   "source": [
    "fig_out = plot(t, out_put);\n",
    "xlabel!(\"t (s)\")\n",
    "ylabel!(\"n(t)\")\n",
    "title!(\"2.6.3 Gaussian white noise plot simulated by passing Dirac functions through LPF\")\n",
    "\n",
    "display(fig_out)\n"
   ]
  },
  {
   "attachments": {},
   "cell_type": "markdown",
   "metadata": {},
   "source": [
    "# Histogram of Output Values\n",
    "\n",
    "We investigate generated random values to see if the standard deviation of the Gaussian white noise models the normal probability density function."
   ]
  },
  {
   "cell_type": "code",
   "execution_count": null,
   "metadata": {},
   "outputs": [],
   "source": [
    "fig_histogram = histogram(out_put,nbins=20)\n",
    "display(fig_histogram)"
   ]
  },
  {
   "attachments": {},
   "cell_type": "markdown",
   "metadata": {},
   "source": [
    "We investigate how changing the bandwidth $B$ affects the appearance of the waveform $n(t)$ and its resulting histogram. We compare the results for the cases when $B_0 = 0.5$, $B = 1$ and $B_1 = 2$."
   ]
  },
  {
   "cell_type": "code",
   "execution_count": null,
   "metadata": {},
   "outputs": [],
   "source": [
    "B_0 = 0.5\n",
    "B_1 = 2\n",
    "out_put = zeros(N_t) # reset output to zeros\n",
    "# Dirac impulses when the bandwidth is halved\n",
    "for n=1:N\n",
    "    τ[n] = rand() * t_max\n",
    "    A[n] = 2*round(rand()) - 1\n",
    "    out_put .+= A[n]*2*B_0*Sa.(2*B_0*(t .- τ[n]) )\n",
    "end\n",
    "\n",
    "\n",
    "fig_impulsesB0 = plot(τ, A, line=:stem, marker=:circle, markersize=2);\n",
    "\n",
    "xlabel!(\"t (s)\")\n",
    "ylabel!(\"Dirac deltas\")\n",
    "title!(\"2.6.4 Plot of Dirac functions to be passed through LPF with B = 0.5 Hz\")\n",
    "\n",
    "display(fig_impulsesB0)\n",
    "\n",
    "\n",
    "# Plotting Sa-functions for \n",
    "# fig_safnctns0 = plot(t, A[1]*2*B_0*Sa.(2*B_0*(t .- τ[1])), label=\"\" );\n",
    "\n",
    "# xlabel!(\"t (s)\")\n",
    "# ylabel!(\"x(t)\")\n",
    "# title!(\"2.6.5 Superimposed Sa-functions from passing Dirac functions through LPF with B = 0.5\")\n",
    "\n",
    "# for n=2:N\n",
    "#     plot!(t, A[n]*2*B_0*Sa.(2*B_0*(t .- τ[n])), label=\"\" ); \n",
    "# end\n",
    "\n",
    "# display(fig_safnctns0)\n",
    "\n",
    "fig_out0 = plot(t, out_put);\n",
    "xlabel!(\"t (s)\")\n",
    "ylabel!(\"n(t)\")\n",
    "title!(\"2.6.6 Gaussian white noise simulated by passing Dirac functions through LPF with B = 0.5 Hz\")\n",
    "\n",
    "display(fig_out0)\n",
    "\n",
    "fig_histogram0 = histogram(out_put,nbins=20)\n",
    "display(fig_histogram0)\n"
   ]
  },
  {
   "cell_type": "code",
   "execution_count": null,
   "metadata": {},
   "outputs": [],
   "source": [
    "out_put = zeros(N_t)\n",
    "for n=1:N\n",
    "    τ[n] = rand() * t_max\n",
    "    A[n] = 2*round(rand()) - 1\n",
    "    out_put .+= A[n]*2*B_1*Sa.(2*B_1*(t .- τ[n]) ) # B_1 = 2 Hz\n",
    "end\n",
    "\n",
    "\n",
    "fig_impulsesB1 = plot(τ, A, line=:stem, marker=:circle, markersize=2);\n",
    "\n",
    "xlabel!(\"t (s)\")\n",
    "ylabel!(\"Dirac deltas\")\n",
    "title!(\"2.6.7 Plot of Dirac functions to be passed through LPF with B = 2 Hz\")\n",
    "\n",
    "display(fig_impulsesB1)\n",
    "\n",
    "# Plotting Sa-functions for \n",
    "# fig_safnctns1 = plot(t, A[1]*2*B_1*Sa.(2*B_1*(t .- τ[1])), label=\"\" );\n",
    "\n",
    "# xlabel!(\"t (s)\")\n",
    "# ylabel!(\"x(t)\")\n",
    "# title!(\"2.6.8 Superimposed Sa-functions from passing Dirac functions through LPF B = 2\")\n",
    "\n",
    "# for n=2:N\n",
    "#     plot!(t, A[n]*2*B_1*Sa.(2*B_1*(t .- τ[n])), label=\"\" ); \n",
    "# end\n",
    "\n",
    "# display(fig_safnctns1)\n",
    "\n",
    "fig_out1 = plot(t, out_put);\n",
    "xlabel!(\"t (s)\")\n",
    "ylabel!(\"n(t)\")\n",
    "title!(\"2.6.9 Gaussian white noise simulated by passing Dirac functions through LPF B = 2 Hz\")\n",
    "\n",
    "display(fig_out1)\n",
    "\n",
    "fig_histogram1 = histogram(out_put,nbins=20)\n",
    "display(fig_histogram1)"
   ]
  },
  {
   "attachments": {},
   "cell_type": "markdown",
   "metadata": {},
   "source": [
    "The results show that increasing the bandwidth in the time domain decreases the spacing between the noise peaks representing superimposed sa-functions. When the bandwidth is $B = 0.5$, the noise peaks are wider and more spread out compared to the peaks in the case where $B = 1$ or $B = 2$. When $B = 2$, the peaks are closer together. The cause of this effect is seen clearly in the plots of the sa-functions. The larger the bandwidth $B$, the more sa-functions are seen within a smaller interval along the horizontal axis. We also know that the width of the main lobe of a Sa-function is given by\n",
    "\n",
    "$\\delta t  \\approx 0.44/B $\n",
    "\n",
    "Therefore, decreasing $B$ increases the with of the main lobes of the sa-function. The overall effect results in wider peaks for decreased bandwidth $B$.\n",
    "The height of the peaks increases with an increase in frequency. When $B = 0.5$, the heights of the peaks range from -4 to 4; when $B = 1$, the value of the peaks are in the interval [-6, 8] and when $B = 2$, the values are in the range [-10, 10].\n",
    "\n",
    "The widening of the maximum values corresponds to the widening of the base of the histogram. In other words, the standard deviation $\\sigma$ between the generated values increases as the bandwidth is increased. The Gaussian noise holds values between $-\\sigma$ and $+\\sigma$ for 68% percent of the time. As the bandwidth frequency is increased, the values which the noise holds for 68% of the time also increase."
   ]
  },
  {
   "attachments": {},
   "cell_type": "markdown",
   "metadata": {},
   "source": [
    "# Making the weights any value in the range [-1, 1]"
   ]
  },
  {
   "attachments": {},
   "cell_type": "markdown",
   "metadata": {},
   "source": [
    "The following generates Dirac functions with weights in the range [-1, 1]. "
   ]
  },
  {
   "cell_type": "code",
   "execution_count": null,
   "metadata": {},
   "outputs": [],
   "source": [
    "out_put = zeros(N_t)\n",
    "for n=1:N\n",
    "    τ[n] = rand() * t_max\n",
    "    A[n] = 2*rand() - 1\n",
    "    out_put .+= A[n]*2*B*Sa.(2*B*(t .- τ[n]) )\n",
    "end\n",
    "\n",
    "fig_impulsesA = plot(τ, A, line=:stem, marker=:circle, markersize=2);\n",
    "\n",
    "xlabel!(\"t (s)\")\n",
    "ylabel!(\"Dirac deltas\")\n",
    "title!(\"2.6.10 Plot of Dirac functions to be passed through LPF\")\n",
    "\n",
    "display(fig_impulsesA)\n",
    "\n",
    "# Plotting Sa-functions for \n",
    "# fig_safnctnsA = plot(t, A[1]*2*B*Sa.(2*B*(t .- τ[1])), label=\"\" );\n",
    "\n",
    "# xlabel!(\"t (s)\")\n",
    "# ylabel!(\"x(t)\")\n",
    "# title!(\"2.6.11 Superimposed Sa-functions from passing Dirac functions through LPF\")\n",
    "\n",
    "for n=2:N\n",
    "    plot!(t, A[n]*2*B*Sa.(2*B*(t .- τ[n])), label=\"\" ); \n",
    "end\n",
    "\n",
    "# display(fig_safnctnsA)\n",
    "\n",
    "fig_outA = plot(t, out_put);\n",
    "xlabel!(\"t (s)\")\n",
    "ylabel!(\"n(t)\")\n",
    "title!(\"2.6.12 Gaussian white noise simulated by passing Dirac functions through LPF\")\n",
    "\n",
    "display(fig_outA)\n",
    "\n",
    "fig_histogramA = histogram(out_put,nbins=20)\n",
    "display(fig_histogramA)"
   ]
  },
  {
   "attachments": {},
   "cell_type": "markdown",
   "metadata": {},
   "source": [
    "We see that changing the weights of the Dirac deltas such that they can take any value between [-1, 1] produces Dirac functions of different height, which results in the possible values of the height of the sa-functions obtained from passing the delta functions through a LPF. We see from the histogram that the values still behave uniformly. The standard deviation between the generated values remains approximately the same."
   ]
  },
  {
   "attachments": {},
   "cell_type": "markdown",
   "metadata": {},
   "source": [
    "We increase the number of samples by widening the time domain and increasing the of Dirac impulses."
   ]
  },
  {
   "cell_type": "code",
   "execution_count": null,
   "metadata": {},
   "outputs": [],
   "source": [
    "t_max=1000 \n",
    "Δt=0.1\n",
    "t=0:Δt:t_max; \n",
    "\n",
    "N_t = length(t) \n",
    "N = 1000\n",
    "\n",
    "Sa(t) = sin(t)/t\n",
    "\n",
    "A = zeros(N);\n",
    "τ = zeros(N);\n",
    "out_put = zeros(N_t); \n",
    "\n",
    "for n=1:N\n",
    "    τ[n] = rand() * t_max\n",
    "    A[n] = 2*round(rand()) - 1\n",
    "    out_put .+= A[n]*2*B*Sa.(2*B*(t .- τ[n]) )      # using B = 1 Hz\n",
    "end\n",
    "\n",
    "fig_histogrammax = histogram(out_put,nbins=20)\n",
    "display(fig_histogrammax)"
   ]
  },
  {
   "attachments": {},
   "cell_type": "markdown",
   "metadata": {},
   "source": [
    "The shape of the histogram more accurately approximates the Gaussian distribution given by the probability density function. "
   ]
  }
 ],
 "metadata": {
  "kernelspec": {
   "display_name": "Julia 1.8.5",
   "language": "julia",
   "name": "julia-1.8"
  },
  "language_info": {
   "file_extension": ".jl",
   "mimetype": "application/julia",
   "name": "julia",
   "version": "1.8.5"
  }
 },
 "nbformat": 4,
 "nbformat_minor": 2
}
